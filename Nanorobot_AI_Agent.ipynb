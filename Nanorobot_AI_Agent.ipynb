{
  "nbformat": 4,
  "nbformat_minor": 0,
  "metadata": {
    "colab": {
      "provenance": []
    },
    "kernelspec": {
      "name": "python3",
      "display_name": "Python 3"
    },
    "language_info": {
      "name": "python"
    }
  },
  "cells": [
    {
      "cell_type": "markdown",
      "source": [
        "**Obstacle avoidance algorithtm**\n"
      ],
      "metadata": {
        "id": "7kX7ZEaSyOmY"
      }
    },
    {
      "cell_type": "markdown",
      "source": [
        "*This is only a protype code* since medical data are not available"
      ],
      "metadata": {
        "id": "X7JJjh1YzvLF"
      }
    },
    {
      "cell_type": "code",
      "execution_count": null,
      "metadata": {
        "id": "YtDAkct_hyBB"
      },
      "outputs": [],
      "source": [
        "import math\n",
        "\n",
        "def navigate_nano_robot(pos_robot, pos_obstacle, threshold):\n",
        "    # calculate distance between nano-robot and obstacle\n",
        "    d = math.sqrt((pos_robot[0]-pos_obstacle[0])**2 + (pos_robot[1]-pos_obstacle[1])**2)\n",
        "\n",
        "    # calculate angle between the centroid of nano-robot and the centroid of obstacle\n",
        "    θ = math.atan2(pos_obstacle[1]-pos_robot[1], pos_obstacle[0]-pos_robot[0])\n",
        "\n",
        "    # if distance is less than threshold value\n",
        "    if d < threshold:\n",
        "        θ += math.pi # step in opposite direction of obstacle\n",
        "\n",
        "    # if distance is greater than threshold value and target area is in positive y-axis direction\n",
        "    elif pos_robot[1] < pos_obstacle[1]:\n",
        "        θ += math.pi/2 # step in perpendicular direction of obstacle\n",
        "\n",
        "    # if distance is greater than threshold value and target area is in negative y-axis direction\n",
        "    elif pos_robot[1] > pos_obstacle[1]:\n",
        "        θ -= math.pi/2 # step in perpendicular direction of obstacle\n",
        "\n",
        "    else:\n",
        "        # randomly add or subtract 90 degrees\n",
        "        θ += (math.pi/2) * (-1 if random.random() < 0.5 else 1)\n",
        "\n",
        "    # calculate new velocity for nano-robot\n",
        "    vx = math.cos(θ)\n",
        "    vy = math.sin(θ)\n",
        "    \n",
        "    # calculate new position of nano-robot\n",
        "    pos_robot[0] += vx\n",
        "    pos_robot[1] += vy\n",
        "    \n",
        "    return pos_robot\n"
      ]
    },
    {
      "cell_type": "markdown",
      "source": [
        "**Bacteria Forage Algorithm**"
      ],
      "metadata": {
        "id": "JrvsVOp9yfg2"
      }
    },
    {
      "cell_type": "markdown",
      "source": [
        "A team of nanorobots S,\n",
        "\n",
        "Current fitness function Jcurrent, \n",
        "\n",
        "Last fitness function hast,\n",
        "\n",
        "Concentration of CoMa(Communication marker) TCoMa,\n",
        "\n",
        "Nc //number of chemotactic steps before energy used up,\n",
        "\n",
        "Ns //maximum number of steps headed in a direction,\n",
        "\n",
        "m //counter for Ns\n"
      ],
      "metadata": {
        "id": "iq3rN3WOy3Er"
      }
    },
    {
      "cell_type": "markdown",
      "source": [
        "Description:-Nanaobot check the chemical concentration of CCS in random direction and if the ccs concentration in a particular location is high than the previous one it will take a chemostatic step towards it."
      ],
      "metadata": {
        "id": "ZSQ8AixtzMiu"
      }
    },
    {
      "cell_type": "code",
      "source": [
        "import numpy as np\n",
        "\n",
        "def nanorobot_algorithm(S, J, TCoMa, Nc, Ns):\n",
        "    m = 0\n",
        "    Jlast = 0\n",
        "    for i in range(len(S)):\n",
        "        if Nc > 0:\n",
        "            Jcurrent = J(S[i]) + Jco(S[i], J) * TCoMa\n",
        "            Jlast = Jcurrent\n",
        "            S[i] = change_direction(S[i])\n",
        "            S[i] = take_chemotactic_step(S[i], TCoMa)\n",
        "            m = 0\n",
        "            while m < Ns:\n",
        "                m += 1\n",
        "                if Jcurrent > Jlast:\n",
        "                    Jlast = Jcurrent\n",
        "                    S[i] = take_chemotactic_step(S[i], TCoMa)\n",
        "                    TCoMa = update_TCoMa(TCoMa,Jcurrent,Jlast)\n",
        "                    Jcurrent = J(S[i]) + Jco(S[i]) * TCoMa\n",
        "                else:\n",
        "                    m = Ns\n",
        "            Nc -= 1\n",
        "    return S\n",
        "\n",
        "def change_direction(nanorobot):\n",
        "    # code to change the direction of the nanorobot\n",
        "    #Returns a random direction\n",
        "    direction = np.random.uniform(-1, 1, size=(len(nanorobot)))\n",
        "    return direction\n",
        "    \n",
        "\n",
        "def take_chemotactic_step(nanorobot, TCoMa):\n",
        "    # code to take a chemotactic step using the current TCoMa value\n",
        "    #x(i) = position of the ith nanobot  \n",
        "    z = 0.01 #A unit length of random direction\n",
        "    C = 0.001 #Basic nanobot step size\n",
        "    x(i+1) = x(i) + c*z\n",
        "    nanorobot = x(i+1)\n",
        "    return nanorobot\n",
        "\n",
        "def update_TCoMa(TCoMa,Jcurrent,Jlast):\n",
        "    # code to update the TCoMa value according to formulas \n",
        "    evap_rate = 0.01 #Any value between 0 & 1 can be choosen\n",
        "    diff_rate = 0.05  #Any value between 0 & 1 can be choosen\n",
        "    #Setting the value of increment in concentration of communication marker\n",
        "    if (Jcurrent>Jlast):\n",
        "      dlTCoMa = 1 \n",
        "    else:\n",
        "      dlTCoMa = 0\n",
        "    TCoMa_new = (1-evap_rate)(1-diff_rate)(TCoMa)+dlTCoMa\n",
        "    return TCoMa_new\n",
        "\n",
        "\n",
        "def Jco(nanorobot, J):\n",
        "    # code to calculate the Jco value according to the provided formula\n",
        "    return np.exp(M - J(nanorobot))\n"
      ],
      "metadata": {
        "id": "w8jyjwD-UVem"
      },
      "execution_count": 1,
      "outputs": []
    },
    {
      "cell_type": "markdown",
      "source": [
        "**Genetic algorithm used code**"
      ],
      "metadata": {
        "id": "Qfor0adL4hGX"
      }
    },
    {
      "cell_type": "markdown",
      "source": [
        "Select the best path after mutation and cross over\n"
      ],
      "metadata": {
        "id": "BwsPDXNcz5FX"
      }
    },
    {
      "cell_type": "markdown",
      "source": [
        "*Additional program done, Based on theoretical knowledge*"
      ],
      "metadata": {
        "id": "SOmx7tkt0MoE"
      }
    },
    {
      "cell_type": "code",
      "source": [],
      "metadata": {
        "id": "X8lKzgxv0MI3"
      },
      "execution_count": null,
      "outputs": []
    },
    {
      "cell_type": "code",
      "source": [
        "import numpy as np\n",
        "import random\n",
        "\n",
        "def nanorobot_algorithm(S, J, TCoMa, Nc, Ns):\n",
        "    m = 0\n",
        "    Jlast = 0\n",
        "    population = []\n",
        "    for i in range(len(S)):\n",
        "        if Nc > 0:\n",
        "            Jcurrent = J(S[i]) + Jco(S[i], J) * TCoMa\n",
        "            Jlast = Jcurrent\n",
        "            S[i] = change_direction(S[i])\n",
        "            S[i] = take_chemotactic_step(S[i], TCoMa)\n",
        "            m = 0\n",
        "            while m < Ns:\n",
        "                m += 1\n",
        "                if Jcurrent > Jlast:\n",
        "                    Jlast = Jcurrent\n",
        "                    S[i] = take_chemotactic_step(S[i], TCoMa)\n",
        "                    TCoMa = update_TCoMa(TCoMa,Jcurrent,Jlast)\n",
        "                    Jcurrent = J(S[i]) + Jco(S[i]) * TCoMa\n",
        "                else:\n",
        "                    m = Ns\n",
        "            Nc -= 1\n",
        "        population.append((S[i], Jcurrent))\n",
        "    return genetic_algorithm(population)\n",
        "\n",
        "def genetic_algorithm(population):\n",
        "    # code to perform genetic algorithm on the population\n",
        "    population_size = len(population)\n",
        "    generations = 1000 # number of generations\n",
        "    mutation_rate = 0.01 # mutation rate\n",
        "    for i in range(generations):\n",
        "        new_population = []\n",
        "        for j in range(population_size):\n",
        "            parent1, parent2 = select_parents(population)\n",
        "            child = crossover(parent1, parent2)\n",
        "            child = mutate(child, mutation_rate)\n",
        "            new_population.append(child)\n",
        "        population = new_population\n",
        "    return population[0] # return the best solution\n",
        "\n",
        "def select_parents(population):\n",
        "    # code to select two parents from the population using roulette wheel selection\n",
        "    population_fitness = [J for (S, J) in population]\n",
        "    population_probabilities = [f/sum(population_fitness) for f in population_fitness]\n",
        "    parent1 = random.choices(population, weights=population_probabilities, k=1)[0]\n",
        "    parent2 = random.choices(population, weights=population_probabilities, k=1)[0]\n",
        "    return parent1, parent2\n",
        "\n",
        "def crossover(parent1, parent2):\n",
        "    # code to perform crossover between two parents\n",
        "    # single-point crossover is used here\n",
        "    crossover_point = random.randint(0, len(parent1[0]))\n",
        "    child = (np.concatenate((parent1[0][:crossover_point], parent2[0][crossover_point:])), 0)\n",
        "    return child\n",
        "\n",
        "def mutate(child, mutation_rate):\n",
        "    # code to perform mutation on the child\n",
        "    for i in range(len(child[0])):\n",
        "        if random.random() < mutation_rate:\n",
        "            child[0][i] += np.random.uniform(-1, 1)\n",
        "    return child\n"
      ],
      "metadata": {
        "id": "1DqPbDkX75ZA"
      },
      "execution_count": null,
      "outputs": []
    }
  ]
}